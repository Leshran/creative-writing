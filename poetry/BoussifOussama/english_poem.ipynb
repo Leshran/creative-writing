{
 "cells": [
  {
   "cell_type": "markdown",
   "metadata": {},
   "source": [
    "# Auto-Poet submission: Boussif Oussama"
   ]
  },
  {
   "cell_type": "markdown",
   "metadata": {},
   "source": [
    "We start by importing necessary modules."
   ]
  },
  {
   "cell_type": "code",
   "execution_count": 42,
   "metadata": {},
   "outputs": [],
   "source": [
    "import pronouncing as pr\n",
    "import random\n",
    "from PyDictionary import PyDictionary"
   ]
  },
  {
   "cell_type": "code",
   "execution_count": 58,
   "metadata": {},
   "outputs": [],
   "source": [
    "class poemScrambler:\n",
    "    STOP_WORDS = ['I', 'YOU', 'SHE', 'HE', 'WHO','AT', 'FOR', 'AND', 'OR', 'THAT', 'TO', 'WHERE', 'THEY','THEIR', 'THEM', 'BY', 'MY']\n",
    "    def __init__(self, verses):\n",
    "        self.verses = verses\n",
    "        self.dictionary = PyDictionary()\n",
    "    @staticmethod\n",
    "    def clean_word(word):\n",
    "        new_word=''\n",
    "        for a in word:\n",
    "            if a.isalpha():\n",
    "                new_word += a\n",
    "        return new_word\n",
    "    def scramble(self, policy=\"rhymes\"):\n",
    "        assert (policy in [\"rhymes\", \"synonym\", \"both\"]), \"Choose a policy from:  [rhymes, synonym, both]\"\n",
    "        if policy == \"rhymes\":\n",
    "            for idx,a in enumerate(self.verses):\n",
    "                new_verse = a.strip().split()\n",
    "                try:\n",
    "                    last_rhyming_word = random.choice(pr.rhymes(poemScrambler.clean_word(new_verse[-1])))\n",
    "                except:\n",
    "                    last_rhyming_word = new_verse[-1]\n",
    "                new_verse[-1] = last_rhyming_word\n",
    "                self.verses[idx] = \" \".join(new_verse)\n",
    "        elif policy == \"synonym\":\n",
    "            for idx,a in enumerate(self.verses):\n",
    "                new_verse = [poemScrambler.clean_word(w) for w  in a.strip().split()]\n",
    "                n = len(new_verse)\n",
    "                for w in random.sample(new_verse, random.randint(1,n-1)):\n",
    "                    if not (w.upper() in poemScrambler.STOP_WORDS):\n",
    "                        jdx = new_verse.index(w)\n",
    "                        try:\n",
    "                            new_verse[jdx] = random.choice(self.dictionary.synonym(w.lower()))\n",
    "                        except:\n",
    "                            new_verse[jdx] = w\n",
    "                self.verses[idx] = \" \".join(new_verse)\n",
    "        else:\n",
    "            for idx,a in enumerate(self.verses):\n",
    "                new_verse = [poemScrambler.clean_word(w) for w  in a.strip().split()]\n",
    "                n = len(new_verse)\n",
    "                for w in random.sample(new_verse, random.randint(1,n//2+1)):\n",
    "                    jdx = new_verse.index(w)\n",
    "                    if not (w.upper() in poemScrambler.STOP_WORDS) and jdx != n-1:\n",
    "                        \n",
    "                        try:\n",
    "                            new_verse[jdx] = random.choice(self.dictionary.synonym(w.lower()))\n",
    "                        except:\n",
    "                            new_verse[jdx] = w\n",
    "                try:\n",
    "                    last_rhyming_word = random.choice(pr.rhymes(poemScrambler.clean_word(new_verse[-1])))\n",
    "                except:\n",
    "                    last_rhyming_word = new_verse[-1]\n",
    "                new_verse[-1] = last_rhyming_word\n",
    "                self.verses[idx] = \" \".join(new_verse)\n",
    "                \n",
    "    def __str__(self):\n",
    "        return \"\\n\".join(self.verses)"
   ]
  },
  {
   "cell_type": "markdown",
   "metadata": {},
   "source": [
    "## Testing the submission"
   ]
  },
  {
   "cell_type": "code",
   "execution_count": 65,
   "metadata": {},
   "outputs": [],
   "source": [
    "# Read the poem\n",
    "txt = open(\"poem\", 'r').readlines()\n",
    "scrambler = poemScrambler(txt)\n",
    "scrambler.scramble(\"synonym\")"
   ]
  },
  {
   "cell_type": "code",
   "execution_count": 66,
   "metadata": {},
   "outputs": [
    {
     "name": "stdout",
     "output_type": "stream",
     "text": [
      "I find that I can write whatever hither\n",
      "My words module never bump medicament light of nighttime\n",
      "For who reads Elizabethan sonnet anyway\n",
      "My freedom rage now comfortingly lucidity\n",
      "I put up write nonsense folderol or queer\n",
      "Misshapen things formed outspoken over-the-counter medicine communicative dirt\n",
      "That chink inwards barrage image keep stray\n",
      "information technology doesnt matter where they choose to veer\n",
      "unchanged my voice communication evaporate\n",
      "And by their cotton cake I know them pure\n",
      "They leave number 1 characterise behind to indicate\n",
      "I of all time wrote them And yet I am assurance\n",
      "sound inward my ghost their recite purr\n",
      "In empty Sir William Chambers where my heartstrings displace\n"
     ]
    }
   ],
   "source": [
    "print(scrambler)"
   ]
  }
 ],
 "metadata": {
  "kernelspec": {
   "display_name": "Python 3",
   "language": "python",
   "name": "python3"
  },
  "language_info": {
   "codemirror_mode": {
    "name": "ipython",
    "version": 3
   },
   "file_extension": ".py",
   "mimetype": "text/x-python",
   "name": "python",
   "nbconvert_exporter": "python",
   "pygments_lexer": "ipython3",
   "version": "3.7.6"
  }
 },
 "nbformat": 4,
 "nbformat_minor": 4
}
